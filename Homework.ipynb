{
  "nbformat": 4,
  "nbformat_minor": 0,
  "metadata": {
    "colab": {
      "name": "Homework",
      "provenance": [],
      "include_colab_link": true
    },
    "kernelspec": {
      "name": "python3",
      "display_name": "Python 3"
    }
  },
  "cells": [
    {
      "cell_type": "markdown",
      "metadata": {
        "id": "view-in-github",
        "colab_type": "text"
      },
      "source": [
        "<a href=\"https://colab.research.google.com/github/2010l12016/python/blob/master/Homework.ipynb\" target=\"_parent\"><img src=\"https://colab.research.google.com/assets/colab-badge.svg\" alt=\"Open In Colab\"/></a>"
      ]
    },
    {
      "cell_type": "code",
      "metadata": {
        "id": "GzQHl6duAp9X",
        "colab_type": "code",
        "colab": {}
      },
      "source": [
        "print(\"Hours worked\")\n",
        "a = float(input(\"a =\"))\n",
        "print(\"Hourly rate\")\n",
        "b = float(input(\"b =\"))\n",
        "if a>40 :\n",
        "  c = a*b*1.5\n",
        "else:\n",
        "  c = a*b\n",
        "print(\"Wages\",c)    \n"
      ],
      "execution_count": 0,
      "outputs": []
    },
    {
      "cell_type": "markdown",
      "metadata": {
        "id": "qWs8_zcRqqFb",
        "colab_type": "text"
      },
      "source": [
        "![alt text](https://photos.app.goo.gl/br8SkG3NMrRHUrrYA)"
      ]
    },
    {
      "cell_type": "markdown",
      "metadata": {
        "id": "MWU5g7Hwqqem",
        "colab_type": "text"
      },
      "source": [
        "# calculate the total wages for the week\n",
        "Hours worked is a, hourly rate is b\n",
        "if $a>40$ then $a*b*1.5$ else $a*b$\n",
        "Wages are c"
      ]
    },
    {
      "cell_type": "code",
      "metadata": {
        "id": "HizzvYZcDiDH",
        "colab_type": "code",
        "colab": {}
      },
      "source": [
        "print(\"Score\")\n",
        "a = float(input(\"a =\"))\n",
        "if a == 5:\n",
        "  print(\"Grade A\")\n",
        "else: \n",
        "  if a == 4:\n",
        "    print(\"Grade B\")\n",
        "  else:\n",
        "    if a == 3:\n",
        "      print(\"Grade C\")\n",
        "    else:\n",
        "     if a == 2:\n",
        "      print(\"Grade D\")\n",
        "     else :\n",
        "      if a == 1:\n",
        "       print(\"Grade F\")\n",
        "      else:\n",
        "        if a == 0:\n",
        "         print(\"Grade F\")\n",
        "        else:\n",
        "           print(\"No grade\")\n",
        "\n",
        "             "
      ],
      "execution_count": 0,
      "outputs": []
    },
    {
      "cell_type": "markdown",
      "metadata": {
        "id": "ILLbCWNWully",
        "colab_type": "text"
      },
      "source": [
        "![alt text](https://photos.app.goo.gl/d7D9PFcHPvfSRf5cA)"
      ]
    },
    {
      "cell_type": "markdown",
      "metadata": {
        "id": "755irT78aawg",
        "colab_type": "text"
      },
      "source": [
        "# calculate the corresponding grade \n",
        "score is a,\n",
        "if $a = 5$ then \"Grade A\" else\n",
        " if $a = 4$ then \"Grade B\" else\n",
        "  if $a = 3$ then \"Grade C\" else\n",
        "   if $a = 2$ then \"Grade D\" else\n",
        "    if $a = 0$ then \"Grade F\" else \"no grade\""
      ]
    },
    {
      "cell_type": "code",
      "metadata": {
        "id": "hWgE5pxLF3rg",
        "colab_type": "code",
        "colab": {}
      },
      "source": [
        "print(\"Score\")\n",
        "a = float(input(\"a = \"))\n",
        "if 100>=a>=90:\n",
        " print(\"Grade A\")\n",
        "else:\n",
        " if 89>=a>=80:\n",
        "   print(\"Grade B\")\n",
        " else:\n",
        "   if 79>=a>=70:\n",
        "     print(\"Grade C\")\n",
        "   else:\n",
        "     if 69>=a>=60:\n",
        "       print(\"Grade D\")\n",
        "     else:\n",
        "       if a<=60:\n",
        "         print(\"Grade F\")\n",
        "       else:\n",
        "         print(\"No grade\")\n",
        "         "
      ],
      "execution_count": 0,
      "outputs": []
    },
    {
      "cell_type": "markdown",
      "metadata": {
        "id": "8qAUgkWVuLSy",
        "colab_type": "text"
      },
      "source": [
        " ![alt text](https://photos.app.goo.gl/NvxYzW5kHUz93br67)"
      ]
    },
    {
      "cell_type": "markdown",
      "metadata": {
        "id": "50tKAjw0x4pb",
        "colab_type": "text"
      },
      "source": [
        "# calculate the corresponding grade\n",
        "score is a,\n",
        "if $100>=a>=90$ then \"Grade A\" else\n",
        " if $79>=a>=70$ then \"Grade C\" else\n",
        "   if $69>=a>=60$ then \"Grade D\" else\n",
        "    if $a<=60$ then \"Grade F\" else \"no grade\""
      ]
    },
    {
      "cell_type": "code",
      "metadata": {
        "id": "px_5zD7uHKYp",
        "colab_type": "code",
        "colab": {}
      },
      "source": [
        "print(\"Credit\")\n",
        "a = float(input(\"a =\"))\n",
        "if a<7:\n",
        "  print(\"freshman\")\n",
        "else:\n",
        "  if 15>=a>=7:\n",
        "   print(\"Sophomore\")\n",
        "  else:\n",
        "    if 25>=a>=16:\n",
        "      print(\"Junior\")\n",
        "    else:\n",
        "      if a>=26:\n",
        "        print(\"Senior\")\n",
        "      else:\n",
        "         print(\"No class\")    "
      ],
      "execution_count": 0,
      "outputs": []
    },
    {
      "cell_type": "markdown",
      "metadata": {
        "id": "hZjY3jXrtd27",
        "colab_type": "text"
      },
      "source": [
        "![alt text](https://photos.app.goo.gl/M54rYsLBsFcqh3rA6)"
      ]
    },
    {
      "cell_type": "markdown",
      "metadata": {
        "id": "FUbXNkGKyna7",
        "colab_type": "text"
      },
      "source": [
        "# calculates class\n",
        "Credit is a,\n",
        "if $a<7$ then \"freshman\" else\n",
        " if $15>=a>=7$ then \"sophomore\" else\n",
        "  if $25>=a>=16$ then \"junior\" else\n",
        "   if $a>=26$ then \"Senior\" else \"no class\""
      ]
    },
    {
      "cell_type": "code",
      "metadata": {
        "id": "FyKWjzA3Gbad",
        "colab_type": "code",
        "colab": {}
      },
      "source": [
        "print(\"weight\")\n",
        "a = float(input(\"a =\"))\n",
        "print(\"height\")\n",
        "b = float(input(\"b =\"))\n",
        "c = (a*720)/(b*b)\n",
        "if c > 25:\n",
        "  print(\"Above health range\")\n",
        "else:\n",
        "  if c<19: \n",
        "    print(\"Below health range\")\n",
        "  else:\n",
        "    print(\"Within health range\")   "
      ],
      "execution_count": 0,
      "outputs": []
    },
    {
      "cell_type": "markdown",
      "metadata": {
        "id": "ZAhfTdrHtVb0",
        "colab_type": "text"
      },
      "source": [
        "![alt text](https://photos.app.goo.gl/Zmigrj3cWqTpZd3w5)"
      ]
    },
    {
      "cell_type": "markdown",
      "metadata": {
        "id": "CSIB9AgKzs0Y",
        "colab_type": "text"
      },
      "source": [
        "# Telling the healthy range\n",
        "Weight is a, height is b\n",
        "$c = (a*720)/(b*b)$\n",
        "if $c> 25$ then \"Above health range\" else\n",
        " if $c<19$ then \"below health range\" else \"within health range\""
      ]
    },
    {
      "cell_type": "code",
      "metadata": {
        "id": "xWuFhHbpJwMa",
        "colab_type": "code",
        "colab": {}
      },
      "source": [
        "print(\"limited speed\")\n",
        "a = float(input(\"a =\"))\n",
        "print(\"clocked speed\")\n",
        "b = float(input(\"b =\"))\n",
        "if a<b:\n",
        "  c=(b-a)*5+50\n",
        "  if b>90:\n",
        "    print(\"fine\",c+200)\n",
        "  else:\n",
        "    print(\"fine\",c)\n",
        "else:\n",
        "  print(\"no fine\")      \n",
        "\n"
      ],
      "execution_count": 0,
      "outputs": []
    },
    {
      "cell_type": "markdown",
      "metadata": {
        "id": "Il6dUQAZtBUW",
        "colab_type": "text"
      },
      "source": [
        "![alt text](https://photos.app.goo.gl/gCYAHmyum379nxwKA)"
      ]
    },
    {
      "cell_type": "markdown",
      "metadata": {
        "id": "J1-JbDUR0yft",
        "colab_type": "text"
      },
      "source": [
        "# indicating the speed\n",
        "limited speed is a, clocked speed is b\n",
        "if $a<b$ then $c=(b-a)*5+50$\n",
        " if $b>90$ then \"fine\" c+200  else  \"fine\" c\n",
        "else \"no fine\""
      ]
    },
    {
      "cell_type": "code",
      "metadata": {
        "id": "OSx_nqD2LFmD",
        "colab_type": "code",
        "colab": {}
      },
      "source": [
        "print(\"starting hours\")\n",
        "a = float(input(\"a =\"))\n",
        "print(\"starting minutes\")\n",
        "b = float(input(\"b =\"))\n",
        "print(\"ending hours\")\n",
        "c = float(input(\"c =\"))\n",
        "print(\"ending minutes\")\n",
        "d = float(input(\"d =\"))\n",
        "if a>=21 and c >= 21:\n",
        "  e= ((c+d/60)-(a+b/60))*1.75\n",
        "else:\n",
        "  if a<21 and c>=21:\n",
        "    e= (c+d/60-21)*1.75+(21-a-b/60)*2.5\n",
        "  else:\n",
        "    e= ((c+d/60)-(a+b/60))*2.5\n",
        "print(\"The total baby sitting bill\",e)       \n"
      ],
      "execution_count": 0,
      "outputs": []
    },
    {
      "cell_type": "markdown",
      "metadata": {
        "id": "2J5UnW56pOPx",
        "colab_type": "text"
      },
      "source": [
        "![alt text](https://photos.app.goo.gl/5SoNFxpGSWA5EZiu5)\n",
        "\n",
        "\n"
      ]
    },
    {
      "cell_type": "markdown",
      "metadata": {
        "id": "wGX5mzZZ1sMQ",
        "colab_type": "text"
      },
      "source": [
        "# Baby sitting bill \n",
        "starting hour is a,starting minute is b\n",
        "ending hour is c, ending minute is d\n",
        "if $a>=21$ and $c>=21$ then $e= ((c+d/60)-(a+b/60))*1.75$ else\n",
        " if $a<21$ and $c>=21$ then $e= (c+d/60-21)*1.75+(21-a-b/60)*2.5$ else $e= ((c+d/60)-(a+b/60))*2.5$\n",
        "\"The total baby sitting bill\" e "
      ]
    }
  ]
}