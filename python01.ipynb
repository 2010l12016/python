{
  "nbformat": 4,
  "nbformat_minor": 0,
  "metadata": {
    "colab": {
      "name": "Untitled0.ipynb",
      "provenance": [],
      "include_colab_link": true
    },
    "kernelspec": {
      "name": "python3",
      "display_name": "Python 3"
    }
  },
  "cells": [
    {
      "cell_type": "markdown",
      "metadata": {
        "id": "view-in-github",
        "colab_type": "text"
      },
      "source": [
        "<a href=\"https://colab.research.google.com/github/2010l12016/python/blob/master/python01.ipynb\" target=\"_parent\"><img src=\"https://colab.research.google.com/assets/colab-badge.svg\" alt=\"Open In Colab\"/></a>"
      ]
    },
    {
      "cell_type": "code",
      "metadata": {
        "id": "ERrE0JkMmU5w",
        "colab_type": "code",
        "colab": {}
      },
      "source": [
        "import getpass"
      ],
      "execution_count": 0,
      "outputs": []
    },
    {
      "cell_type": "code",
      "metadata": {
        "id": "r8YtZ-e8mcGj",
        "colab_type": "code",
        "outputId": "392643ee-3ff3-425d-d5de-c72d330d553d",
        "colab": {
          "base_uri": "https://localhost:8080/",
          "height": 248
        }
      },
      "source": [
        "u = input(\"username: \")\n",
        "p = getpass.getpass(\"password: \")\n",
        "if u == \"peter\" and p == \"rj@is2019\" :\n",
        "  print(\" login success\")\n",
        "else:\n",
        "  print(\"fail\") \n",
        "print(\"program ends here\")"
      ],
      "execution_count": 0,
      "outputs": [
        {
          "output_type": "stream",
          "text": [
            "username: e\n"
          ],
          "name": "stdout"
        },
        {
          "output_type": "error",
          "ename": "NameError",
          "evalue": "ignored",
          "traceback": [
            "\u001b[0;31m---------------------------------------------------------------------------\u001b[0m",
            "\u001b[0;31mNameError\u001b[0m                                 Traceback (most recent call last)",
            "\u001b[0;32m<ipython-input-2-5c9aff69b2c4>\u001b[0m in \u001b[0;36m<module>\u001b[0;34m()\u001b[0m\n\u001b[1;32m      1\u001b[0m \u001b[0mu\u001b[0m \u001b[0;34m=\u001b[0m \u001b[0minput\u001b[0m\u001b[0;34m(\u001b[0m\u001b[0;34m\"username: \"\u001b[0m\u001b[0;34m)\u001b[0m\u001b[0;34m\u001b[0m\u001b[0;34m\u001b[0m\u001b[0m\n\u001b[0;32m----> 2\u001b[0;31m \u001b[0mp\u001b[0m \u001b[0;34m=\u001b[0m \u001b[0mgetpass\u001b[0m\u001b[0;34m.\u001b[0m\u001b[0mgetpass\u001b[0m\u001b[0;34m(\u001b[0m\u001b[0;34m\"password: \"\u001b[0m\u001b[0;34m)\u001b[0m\u001b[0;34m\u001b[0m\u001b[0;34m\u001b[0m\u001b[0m\n\u001b[0m\u001b[1;32m      3\u001b[0m \u001b[0;32mif\u001b[0m \u001b[0mu\u001b[0m \u001b[0;34m==\u001b[0m \u001b[0;34m\"peter\"\u001b[0m \u001b[0;32mand\u001b[0m \u001b[0mp\u001b[0m \u001b[0;34m==\u001b[0m \u001b[0;34m\"rj@is2019\"\u001b[0m \u001b[0;34m:\u001b[0m\u001b[0;34m\u001b[0m\u001b[0;34m\u001b[0m\u001b[0m\n\u001b[1;32m      4\u001b[0m   \u001b[0mprint\u001b[0m\u001b[0;34m(\u001b[0m\u001b[0;34m\" login success\"\u001b[0m\u001b[0;34m)\u001b[0m\u001b[0;34m\u001b[0m\u001b[0;34m\u001b[0m\u001b[0m\n\u001b[1;32m      5\u001b[0m \u001b[0;32melse\u001b[0m\u001b[0;34m:\u001b[0m\u001b[0;34m\u001b[0m\u001b[0;34m\u001b[0m\u001b[0m\n",
            "\u001b[0;31mNameError\u001b[0m: name 'getpass' is not defined"
          ]
        }
      ]
    },
    {
      "cell_type": "code",
      "metadata": {
        "id": "aDkxDiR1nBRb",
        "colab_type": "code",
        "outputId": "ac43fb65-2173-4fc4-9e78-a5164aeef276",
        "colab": {
          "base_uri": "https://localhost:8080/",
          "height": 34
        }
      },
      "source": [
        "if u == \"peter\" and p == \"rj@is2019\" :\n",
        "  print(\" login success\")\n",
        "else:\n",
        "  print(\"fail\") "
      ],
      "execution_count": 0,
      "outputs": [
        {
          "output_type": "stream",
          "text": [
            "fail\n"
          ],
          "name": "stdout"
        }
      ]
    },
    {
      "cell_type": "code",
      "metadata": {
        "id": "Afibob7CtW0O",
        "colab_type": "code",
        "outputId": "926f1252-d37a-432f-ef9d-6ca5ceda4d73",
        "colab": {
          "base_uri": "https://localhost:8080/",
          "height": 102
        }
      },
      "source": [
        "a = float(input(\"a = \"))\n",
        "b = float(input(\"b = \"))\n",
        "c = float(input(\"c = \"))\n",
        "if a == 0:\n",
        " if b == 0:\n",
        "  if c == 0:\n",
        "   print(\"The equation has inifnitely many roots\")\n",
        "  else:\n",
        "   print(\"The equation has no root\")\n",
        " else:\n",
        "   x= -c/b\n",
        "   print(\"the equation has 1 root = \",x)\n",
        "else:\n",
        "  delta = b*b - 4*a*c\n",
        "  if delta < 0:\n",
        "    print(\"the equation has no root\")\n",
        "  else:\n",
        "     if delta == 0:\n",
        "      print(\" the equation has 1 root = \", -b/(2*a))\n",
        "     else:\n",
        "       print(\" the equation has 2 diffrent roots:\")\n",
        "       x1 = (-b+ math.sqrt(delta)/(2*a))\n",
        "       x2 = (-b+ math.sqrt(delta)/(2*a))\n",
        "       print(\" x1 = \",x1)\n",
        "       print(\" x2 = \",x2)   \n",
        "print(\" Finish solving the quadratic equation\")       \n",
        "\n",
        "\n"
      ],
      "execution_count": 0,
      "outputs": [
        {
          "output_type": "stream",
          "text": [
            "a = 3\n",
            "b = 4\n",
            "c = 2\n",
            "the equation has no root\n",
            " Finish solving the quadratic equation\n"
          ],
          "name": "stdout"
        }
      ]
    },
    {
      "cell_type": "markdown",
      "metadata": {
        "id": "00zL5i0S3Qgq",
        "colab_type": "text"
      },
      "source": [
        ""
      ]
    },
    {
      "cell_type": "markdown",
      "metadata": {
        "id": "TmYJQprvy8yb",
        "colab_type": "text"
      },
      "source": [
        ""
      ]
    }
  ]
}