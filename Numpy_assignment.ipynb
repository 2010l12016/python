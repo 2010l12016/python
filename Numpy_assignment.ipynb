{
  "nbformat": 4,
  "nbformat_minor": 0,
  "metadata": {
    "colab": {
      "name": "Numpy-assignment.ipynb",
      "provenance": [],
      "collapsed_sections": [],
      "include_colab_link": true
    },
    "kernelspec": {
      "name": "python3",
      "display_name": "Python 3"
    }
  },
  "cells": [
    {
      "cell_type": "markdown",
      "metadata": {
        "id": "view-in-github",
        "colab_type": "text"
      },
      "source": [
        "<a href=\"https://colab.research.google.com/github/2010l12016/python/blob/master/Numpy_assignment.ipynb\" target=\"_parent\"><img src=\"https://colab.research.google.com/assets/colab-badge.svg\" alt=\"Open In Colab\"/></a>"
      ]
    },
    {
      "cell_type": "markdown",
      "metadata": {
        "id": "OqL2qtoMuNjg",
        "colab_type": "text"
      },
      "source": [
        "**NUMPY EXERCISE**"
      ]
    },
    {
      "cell_type": "markdown",
      "metadata": {
        "id": "u1uiw0epuTOA",
        "colab_type": "text"
      },
      "source": [
        "**1. Import Numpy**"
      ]
    },
    {
      "cell_type": "code",
      "metadata": {
        "id": "t3xdpquPuKG8",
        "colab_type": "code",
        "colab": {}
      },
      "source": [
        "import numpy as np"
      ],
      "execution_count": 0,
      "outputs": []
    },
    {
      "cell_type": "markdown",
      "metadata": {
        "id": "eA85IxSAubUP",
        "colab_type": "text"
      },
      "source": [
        "**2. Manually create a matrix**\n",
        "\n",
        "Create a 3-by-5 matrix and print it out to the screen"
      ]
    },
    {
      "cell_type": "code",
      "metadata": {
        "id": "Gs0bbL7FuZ6-",
        "colab_type": "code",
        "colab": {}
      },
      "source": [
        "import numpy as np \n",
        "a = np.arange(15)\n",
        "b = a.reshape(3,5)\n",
        "print(b)"
      ],
      "execution_count": 0,
      "outputs": []
    },
    {
      "cell_type": "markdown",
      "metadata": {
        "id": "fQyJbHBUu1SY",
        "colab_type": "text"
      },
      "source": [
        "**3. Manually create a vector**\n",
        "\n",
        "Create a vector which has 10 elements and print it out to the screen"
      ]
    },
    {
      "cell_type": "code",
      "metadata": {
        "id": "cWpVwEK4vAvM",
        "colab_type": "code",
        "colab": {}
      },
      "source": [
        "import numpy as np \n",
        "import random\n",
        "x = random.choices(np.arange(100), k=10)\n",
        "print(x)"
      ],
      "execution_count": 0,
      "outputs": []
    },
    {
      "cell_type": "markdown",
      "metadata": {
        "id": "djvBbsRuvz1J",
        "colab_type": "text"
      },
      "source": [
        "**4. Automatically create matrix**\n",
        "\n",
        "\n",
        "\n",
        "1.   Automatically create a 3-by-5 matrix which has interger values in the range of [0, 100]\n",
        "2.   Automatically create a 5-by-7 matrix which has interger values in the range of [0, 100]\n",
        "3.   Print out the above 2 matricces to the screen\n",
        "4.   Implementy matrix multiplication of the above 2 matrices and print the result to the screen (let us call this result matrixx is C)\n",
        "\n",
        "\n"
      ]
    },
    {
      "cell_type": "code",
      "metadata": {
        "id": "glYQOrmvvCtI",
        "colab_type": "code",
        "colab": {}
      },
      "source": [
        "import random\n",
        "import numpy as np\n",
        "\n",
        "x = np.random.randint(0,100,(3,5))\n",
        "print('x',x)\n",
        "y = np.random.randint(0,100,(5,7))\n",
        "print('y',y)\n",
        "c = x.dot(y)\n",
        "print('c',c)\n"
      ],
      "execution_count": 0,
      "outputs": []
    },
    {
      "cell_type": "markdown",
      "metadata": {
        "id": "ZfugKrn7woVg",
        "colab_type": "text"
      },
      "source": [
        "**5. Scalar multiplication**\n",
        "\n",
        "Input a number fromm keyboard and multiply this number with the above matrix C and print the result to the screen"
      ]
    },
    {
      "cell_type": "code",
      "metadata": {
        "id": "jj2Mhfiownrx",
        "colab_type": "code",
        "colab": {}
      },
      "source": [
        "import numpy as np\n",
        "import random\n",
        "x = np.random.randint(0,100,(3,5))\n",
        "y = np.random.randint(0,100,(5,7))\n",
        "c = x.dot(y)\n",
        "a = int(input('a ='))\n",
        "print(a*c)"
      ],
      "execution_count": 0,
      "outputs": []
    },
    {
      "cell_type": "markdown",
      "metadata": {
        "id": "Wo4C0TufxEuo",
        "colab_type": "text"
      },
      "source": [
        "**6. Automatically create vector**\n",
        "\n",
        "Automattically create a vector at size of 7-by-1 which has values in the range of [-10, 30]. And multiply the C matrix with this vector. Print the result to the screen."
      ]
    },
    {
      "cell_type": "code",
      "metadata": {
        "id": "hJX6N94cxD1f",
        "colab_type": "code",
        "colab": {}
      },
      "source": [
        "import numpy as np\n",
        "import random\n",
        "x = np.random.randint(0,100,(3,5))\n",
        "y = np.random.randint(0,100,(5,7))\n",
        "c = x.dot(y)\n",
        "\n",
        "a = np.random.randint(-10,30,(7,1))\n",
        "print(c.dot(a))"
      ],
      "execution_count": 0,
      "outputs": []
    },
    {
      "cell_type": "markdown",
      "metadata": {
        "id": "WMTN3Bmlxn7p",
        "colab_type": "text"
      },
      "source": [
        "**7. Matrix slicing**\n",
        "\n",
        "\n",
        "\n",
        "1.   Automatically create a matrix at size of 7-by-15\n",
        "2.   Print out the first column of this matrix \n",
        "3.   Print out the third row of this matrix\n",
        "4.   Print out the element at the second column and fourth row\n",
        "\n"
      ]
    },
    {
      "cell_type": "code",
      "metadata": {
        "id": "bUfAGb8Zxijx",
        "colab_type": "code",
        "colab": {}
      },
      "source": [
        "import numpy as np\n",
        "import random\n",
        "x = np.random.randint(0,100,(7,15))\n",
        "print(x)\n",
        "\n",
        "print ('second column',x[...,1]) \n",
        "print ('fourth row',x[3,...])\n",
        "a = x[3,1]\n",
        "print ('second column and fourth row',a)"
      ],
      "execution_count": 0,
      "outputs": []
    },
    {
      "cell_type": "markdown",
      "metadata": {
        "id": "lPTe2UOsyO1x",
        "colab_type": "text"
      },
      "source": [
        "**8. Matrix transposition**\n",
        "\n",
        "Perform the matrix transposition of the matrix in question 7 and print out to the screen."
      ]
    },
    {
      "cell_type": "code",
      "metadata": {
        "id": "4vz_r5ebyLAR",
        "colab_type": "code",
        "colab": {}
      },
      "source": [
        "import numpy as np\n",
        "import random\n",
        "x = np.random.randint(0,100,(7,15))\n",
        "y = np.transpose(x)\n",
        "print(y)"
      ],
      "execution_count": 0,
      "outputs": []
    },
    {
      "cell_type": "markdown",
      "metadata": {
        "id": "wrmGswxeypvy",
        "colab_type": "text"
      },
      "source": [
        "**9. Matrix addition**\n",
        "\n",
        "\n",
        "\n",
        "1.   Automatically create 2 integer matrices whicch have values in the range of [-10, 30]\n",
        "2.   Print them to the screen\n",
        "3.   Perform matrix addition of the above 2 matrices and print the result to the screen. \n",
        "\n"
      ]
    },
    {
      "cell_type": "code",
      "metadata": {
        "id": "v5VflDc0yhn4",
        "colab_type": "code",
        "colab": {}
      },
      "source": [
        "import numpy as np\n",
        "import random\n",
        "x = np.random.randint(-10,30,(3,4))\n",
        "print('x',x)\n",
        "y = np.random.randint(-10,30,(3,4))\n",
        "print('y',y)\n",
        "print(np.add(x,y))"
      ],
      "execution_count": 0,
      "outputs": []
    },
    {
      "cell_type": "code",
      "metadata": {
        "colab_type": "code",
        "id": "UiS17vYjk9vy",
        "colab": {}
      },
      "source": [
        ""
      ],
      "execution_count": 0,
      "outputs": []
    }
  ]
}