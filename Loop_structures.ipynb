{
  "nbformat": 4,
  "nbformat_minor": 0,
  "metadata": {
    "colab": {
      "name": "Loop structures.ipynb",
      "provenance": [],
      "include_colab_link": true
    },
    "kernelspec": {
      "name": "python3",
      "display_name": "Python 3"
    }
  },
  "cells": [
    {
      "cell_type": "markdown",
      "metadata": {
        "id": "view-in-github",
        "colab_type": "text"
      },
      "source": [
        "<a href=\"https://colab.research.google.com/github/2010l12016/python/blob/master/Loop_structures.ipynb\" target=\"_parent\"><img src=\"https://colab.research.google.com/assets/colab-badge.svg\" alt=\"Open In Colab\"/></a>"
      ]
    },
    {
      "cell_type": "code",
      "metadata": {
        "id": "yvIUbu3nXe_4",
        "colab_type": "code",
        "colab": {}
      },
      "source": [
        "n = float(input(\"n =\"))\n",
        "a=1\n",
        "b=1\n",
        "c=2\n",
        "z= 3\n",
        "if n == 2 or n == 1 :\n",
        " print(1)\n",
        "else: \n",
        "  while n > z:\n",
        "   z = z + 1\n",
        "   x=a\n",
        "   y=b\n",
        "   c= b + c\n",
        "   b=x+y\n",
        "   a=y\n",
        "  print(c)  "
      ],
      "execution_count": 0,
      "outputs": []
    },
    {
      "cell_type": "markdown",
      "metadata": {
        "id": "9N_YQ0aM1Ra7",
        "colab_type": "text"
      },
      "source": [
        "![alt text](https://drive.google.com/file/d/1H5bInt_W0QfqTnM493LLVxd5DX5xOfW2/view?usp=sharing)"
      ]
    },
    {
      "cell_type": "code",
      "metadata": {
        "id": "i91ArB19Xkg7",
        "colab_type": "code",
        "colab": {}
      },
      "source": [
        "print(\"Given rate\")\n",
        "a = float(input(\"a =\"))\n",
        "n = 0\n",
        "T = 1\n",
        "while T<2:\n",
        "  T = (1+a/100)*T\n",
        "  n = n + 1\n",
        "print(\"Number of years\", n)  "
      ],
      "execution_count": 0,
      "outputs": []
    },
    {
      "cell_type": "markdown",
      "metadata": {
        "id": "Hzrq95XBdfA4",
        "colab_type": "text"
      },
      "source": [
        "![alt text](https://drive.google.com/file/d/1HE0KoD2Eshamz5LKFPUSNGhh49G5xUEC/view?usp=sharing)"
      ]
    },
    {
      "cell_type": "code",
      "metadata": {
        "id": "yvO0EfNXoLeZ",
        "colab_type": "code",
        "colab": {}
      },
      "source": [
        "print(\"starting value\")\n",
        "x = float(input(\"x =\"))\n",
        "print(x)\n",
        "while x != 1:\n",
        "  if x%2 == 0:\n",
        "    x = x/2\n",
        "  else:\n",
        "    x = 3*x + 1\n",
        "  print(x)  "
      ],
      "execution_count": 0,
      "outputs": []
    },
    {
      "cell_type": "markdown",
      "metadata": {
        "id": "b9pHQgKJtR8Z",
        "colab_type": "text"
      },
      "source": [
        "![alt text](https://drive.google.com/file/d/1Ii8aFhITIdNGzaA8cCG5BKIgdqef--nt/view?usp=sharing)"
      ]
    }
  ]
}