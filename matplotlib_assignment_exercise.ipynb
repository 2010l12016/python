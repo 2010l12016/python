{
  "nbformat": 4,
  "nbformat_minor": 0,
  "metadata": {
    "colab": {
      "name": "matplotlib_assignment-exercise.ipynb",
      "provenance": [],
      "include_colab_link": true
    },
    "kernelspec": {
      "name": "python3",
      "display_name": "Python 3"
    }
  },
  "cells": [
    {
      "cell_type": "markdown",
      "metadata": {
        "id": "view-in-github",
        "colab_type": "text"
      },
      "source": [
        "<a href=\"https://colab.research.google.com/github/2010l12016/python/blob/master/matplotlib_assignment_exercise.ipynb\" target=\"_parent\"><img src=\"https://colab.research.google.com/assets/colab-badge.svg\" alt=\"Open In Colab\"/></a>"
      ]
    },
    {
      "cell_type": "markdown",
      "metadata": {
        "id": "03D98oYpHKVV",
        "colab_type": "text"
      },
      "source": [
        "**MATPLOTLIB EXERCISE**"
      ]
    },
    {
      "cell_type": "markdown",
      "metadata": {
        "id": "IusDiCnuHTqr",
        "colab_type": "text"
      },
      "source": [
        "**1. Import Matplotlib & Numpy**\n"
      ]
    },
    {
      "cell_type": "code",
      "metadata": {
        "id": "p54rPoKxCQXB",
        "colab_type": "code",
        "colab": {}
      },
      "source": [
        "import matplotlib as plt\n",
        "import numpy as pd"
      ],
      "execution_count": 0,
      "outputs": []
    },
    {
      "cell_type": "markdown",
      "metadata": {
        "id": "SyPm8_tAHhM7",
        "colab_type": "text"
      },
      "source": [
        "**2. Preparing data**\n",
        "\n",
        "Create x vector which has 100 elements and the element values gradually increase from 0 to 99.\n",
        "\n",
        "Randomly create y vector which has 100 elements and the element values are randomly generated in the range of \\[0, 1000)"
      ]
    },
    {
      "cell_type": "code",
      "metadata": {
        "id": "7-udE2cPIfrw",
        "colab_type": "code",
        "colab": {}
      },
      "source": [
        "import numpy as np \n",
        "import random\n",
        "x = np.arange(100) \n",
        "print ('x',x)\n",
        "y = random.choices(np.arange(1000), k=100)\n",
        "print('y',y)"
      ],
      "execution_count": 0,
      "outputs": []
    },
    {
      "cell_type": "markdown",
      "metadata": {
        "id": "hiQ_ecXpJBaj",
        "colab_type": "text"
      },
      "source": [
        "**3. Draw a line chart**\n",
        "\n",
        "Use the above data to draw a line chart."
      ]
    },
    {
      "cell_type": "code",
      "metadata": {
        "id": "mX8I6KsVI_gp",
        "colab_type": "code",
        "colab": {}
      },
      "source": [
        "import matplotlib.pyplot as plt\n",
        "import numpy as np \n",
        "import random\n",
        "x = np.arange(100) \n",
        "y = random.choices(np.arange(1000), k=100)\n",
        "\n",
        "fig = plt.figure()\n",
        "ax = fig.add_axes([0,0,1,1])\n",
        "l1 = ax.plot(x,y,'r+-') \n"
      ],
      "execution_count": 0,
      "outputs": []
    },
    {
      "cell_type": "markdown",
      "metadata": {
        "id": "W2avNAFIxdNV",
        "colab_type": "text"
      },
      "source": [
        "**4. Config the axes**\n",
        "\n",
        "Use the above generated dataset, let set the name for x-axis, y-axis and the legend of your chart.\n",
        "Suggested reading: [link](https://www.tutorialspoint.com/matplotlib/matplotlib_axes_class.htm)"
      ]
    },
    {
      "cell_type": "code",
      "metadata": {
        "id": "1eblhmU6yDP8",
        "colab_type": "code",
        "colab": {}
      },
      "source": [
        "import matplotlib.pyplot as plt\n",
        "import numpy as np \n",
        "import random\n",
        "x = np.arange(100) \n",
        "y = random.choices(np.arange(1000), k=100)\n",
        "\n",
        "fig = plt.figure()\n",
        "ax = fig.add_axes([0,0,1,1])\n",
        "l1 = ax.plot(x,y,'r+-') \n",
        "ax.legend(labels = ('Values'), loc = 'lower right') \n",
        "ax.set_xlabel('x vector')\n",
        "ax.set_ylabel('y vector')"
      ],
      "execution_count": 0,
      "outputs": []
    },
    {
      "cell_type": "markdown",
      "metadata": {
        "id": "rU0M3v4KyyQq",
        "colab_type": "text"
      },
      "source": [
        "**5. Multiple line chart**\n",
        "\n",
        "Create x vector which has 100 elements and the element values gradually increase from 0 to 99.\n",
        "\n",
        "Randomly create y1 and y2 vector which have 100 elements and the element values are randomly generated in the range of \\[0, 1000) \n",
        "\n",
        "Let draw the above two lines y1 and y2. The chart must has:\n",
        "\n",
        "\n",
        "1.   names of x-axis and y-axis\n",
        "2.   chart legend\n",
        "3.   different colors for the lines of y1 and y2\n",
        "4.   different markers for the lines of y1 and y2\n",
        "\n",
        "\n",
        "\n"
      ]
    },
    {
      "cell_type": "code",
      "metadata": {
        "id": "1T8yUN0nz9K3",
        "colab_type": "code",
        "colab": {}
      },
      "source": [
        "import matplotlib.pyplot as plt\n",
        "import numpy as np \n",
        "import random\n",
        "x = np.arange(100) \n",
        "y1 = random.choices(np.arange(1000), k=100)\n",
        "y2 = random.choices(np.arange(1000), k=100)\n",
        "\n",
        "fig = plt.figure()\n",
        "ax = fig.add_axes([0,0,1,1])\n",
        "l1 = ax.plot(x,y1,'bs-') \n",
        "l2 = ax.plot(x,y2,'rH-.') \n",
        "ax.legend(labels = ('Y1 vector', 'Y2 vector'), loc = 'lower right')\n",
        "ax.set_title(\"Multiple line chart\")\n",
        "ax.set_xlabel('X axe')\n",
        "ax.set_ylabel('Y axe')\n",
        "plt.show()"
      ],
      "execution_count": 0,
      "outputs": []
    },
    {
      "cell_type": "markdown",
      "metadata": {
        "id": "dlchgch5Iufg",
        "colab_type": "text"
      },
      "source": [
        "**6. Draw a box plot**\n",
        "\n",
        "Use the above y1, y2 vectors to draw a box plot."
      ]
    },
    {
      "cell_type": "code",
      "metadata": {
        "id": "0kWtaijAJWKK",
        "colab_type": "code",
        "colab": {}
      },
      "source": [
        "import matplotlib.pyplot as plt\n",
        "import numpy as np \n",
        "import random\n",
        "y1 = random.choices(np.arange(1000), k=100)\n",
        "y2 = random.choices(np.arange(1000), k=100)\n",
        "\n",
        "fig = plt.figure()\n",
        "ax = fig.add_axes([0,0,1,1])\n",
        "bp = ax.boxplot([y1,y2])\n",
        "plt.show(bp)"
      ],
      "execution_count": 0,
      "outputs": []
    },
    {
      "cell_type": "markdown",
      "metadata": {
        "id": "RUPdmC3xJYMT",
        "colab_type": "text"
      },
      "source": [
        "**7. Draw a histogram**\n",
        "\n",
        "Suggested reading: [link](https://www.tutorialspoint.com/matplotlib/matplotlib_histogram.htm). You make your own data."
      ]
    },
    {
      "cell_type": "code",
      "metadata": {
        "id": "-7sdUTlV1cBQ",
        "colab_type": "code",
        "colab": {}
      },
      "source": [
        "import matplotlib.pyplot as plt\n",
        "import numpy as np\n",
        "fig,ax = plt.subplots(1,1)\n",
        "a = np.array([22,87,5,43,56,73,55,54,11,20,51,5,79,31,27,22,66,71,88,76,98,12,23,45,66,33,77,78,43,56,52,12,3,9,71,55,88])\n",
        "ax.hist(a, bins = [0,10,20,30,40,50,60,70,80,90,99])\n",
        "ax.set_title(\"Ages in a city\")\n",
        "ax.set_xticks([0,25,50,75,100])\n",
        "ax.set_xlabel('Ages')\n",
        "ax.set_ylabel('Number')\n",
        "plt.show()"
      ],
      "execution_count": 0,
      "outputs": []
    },
    {
      "cell_type": "markdown",
      "metadata": {
        "id": "3L6nPkfY1e6B",
        "colab_type": "text"
      },
      "source": [
        "**8. Draw a bar plot**\n",
        "\n",
        "Suggested reading: [link](https://www.tutorialspoint.com/matplotlib/matplotlib_bar_plot.htm). You make your own data."
      ]
    },
    {
      "cell_type": "code",
      "metadata": {
        "id": "qbJrlVU814sc",
        "colab_type": "code",
        "colab": {}
      },
      "source": [
        "import matplotlib.pyplot as plt\n",
        "fig = plt.figure()\n",
        "ax = fig.add_axes([0,0,1,1])\n",
        "countries = ['Iran','Irag','Qatar','Saudi Arabia','UAE']\n",
        "numbers = [2.9,2.1,0.4,8.5,3.5]\n",
        "ax.bar(countries,numbers)\n",
        "ax.set_title('Oil production capacity')\n",
        "ax.set_ylabel('Millions of barrels per day')\n",
        "plt.show()"
      ],
      "execution_count": 0,
      "outputs": []
    },
    {
      "cell_type": "markdown",
      "metadata": {
        "id": "tGpAYtg42Hw7",
        "colab_type": "text"
      },
      "source": [
        "**9. Draw a scatter plot**\n",
        "\n",
        "Use the above x, y1, y2 vectors to draw a scatter plot. Suggested reading: [link](https://www.tutorialspoint.com/matplotlib/matplotlib_scatter_plot.htm)"
      ]
    },
    {
      "cell_type": "code",
      "metadata": {
        "id": "PEXgWXCp2gtX",
        "colab_type": "code",
        "colab": {}
      },
      "source": [
        "import matplotlib.pyplot as plt\n",
        "import numpy as np \n",
        "import random\n",
        "x = np.arange(100) \n",
        "y1 = random.choices(np.arange(1000), k=100)\n",
        "y2 = random.choices(np.arange(1000), k=100)\n",
        "\n",
        "fig=plt.figure()\n",
        "ax=fig.add_axes([0,0,1,1])\n",
        "ax.scatter(x, y1, color='c')\n",
        "ax.scatter(x, y2, color='g')\n",
        "ax.set_title('scatter plot')\n",
        "plt.show()"
      ],
      "execution_count": 0,
      "outputs": []
    },
    {
      "cell_type": "markdown",
      "metadata": {
        "id": "xwor-t5g2jA_",
        "colab_type": "text"
      },
      "source": [
        "**10. Subplot**\n",
        "\n",
        "Combine the plots of sections 4, 5, 6, 7, 8, and 9 into a multi-plot. Suggested reading: [link](https://www.tutorialspoint.com/matplotlib/matplotlib_subplots_function.htm)"
      ]
    },
    {
      "cell_type": "code",
      "metadata": {
        "id": "TzUpXJML3YTu",
        "colab_type": "code",
        "colab": {}
      },
      "source": [
        "import matplotlib.pyplot as plt\n",
        "import numpy as np \n",
        "import random\n",
        "\n",
        "fig,a =  plt.subplots(3,2)\n",
        "\n",
        "#Q4\n",
        "x4 = np.arange(100) \n",
        "y4 = random.choices(np.arange(1000), k=100)\n",
        "fig = plt.figure()\n",
        "l1 = a[0][0].plot(x4,y4,'r+-') \n",
        "a[0][0].legend(labels = ('Values'), loc = 'lower right') \n",
        "a[0][0].set_title(\"line chart\")\n",
        "a[0][0].set_xlabel('x vector')\n",
        "a[0][0].set_ylabel('y vector')\n",
        "\n",
        "#Q5\n",
        "x5 = np.arange(100) \n",
        "y15 = random.choices(np.arange(1000), k=100)\n",
        "y25 = random.choices(np.arange(1000), k=100)\n",
        "fig = plt.figure()\n",
        "l1 = a[0][1].plot(x5,y15,'bs-') \n",
        "l2 = a[0][1].plot(x5,y25,'rH-.') \n",
        "a[0][1].legend(labels = ('Y1 vector', 'Y2 vector'), loc = 'lower right')\n",
        "a[0][1].set_title(\"Multiple line chart\")\n",
        "a[0][1].set_xlabel('X axe')\n",
        "a[0][1].set_ylabel('Y axe')\n",
        "\n",
        "#Q6\n",
        "y16 = random.choices(np.arange(1000), k=100)\n",
        "y26 = random.choices(np.arange(1000), k=100)\n",
        "a[1][0] = a[1][0].boxplot([y16,y26])\n",
        "\n",
        "#Q7\n",
        "a7 = np.array([22,87,5,43,56,73,55,54,11,20,51,5,79,31,27,22,66,71,88,76,98,12,23,45,66,33,77,78,43,56,52,12,3,9,71,55,88])\n",
        "a[1][1].hist(a7, bins = [0,10,20,30,40,50,60,70,80,90,99])\n",
        "a[1][1].set_title(\"Ages in a city\")\n",
        "a[1][1].set_xticks([0,25,50,75,100])\n",
        "a[1][1].set_xlabel('Ages')\n",
        "a[1][1].set_ylabel('Number')\n",
        "\n",
        "#Q8\n",
        "countries = ['Iran','Irag','Qatar','Saudi Arabia','UAE']\n",
        "numbers = [2.9,2.1,0.4,8.5,3.5]\n",
        "a[2][0].bar(countries,numbers)\n",
        "a[2][0].set_title('Oil production capacity')\n",
        "a[2][0].set_ylabel('Millions of barrels per day')\n",
        "\n",
        "#Q9\n",
        "x9 = np.arange(100) \n",
        "y19 = random.choices(np.arange(1000), k=100)\n",
        "y29 = random.choices(np.arange(1000), k=100)\n",
        "a[2][1].scatter(x9, y19, color='c')\n",
        "a[2][1].scatter(x9, y29, color='g')\n",
        "a[2][1].set_title('scatter plot')\n",
        "\n",
        "plt.show()"
      ],
      "execution_count": 0,
      "outputs": []
    }
  ]
}